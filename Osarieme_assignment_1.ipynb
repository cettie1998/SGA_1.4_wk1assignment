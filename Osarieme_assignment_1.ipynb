{
 "cells": [
  {
   "cell_type": "markdown",
   "id": "28c12f4a-512d-4a18-8640-45dd48ae8b3c",
   "metadata": {},
   "source": [
    "# Assignment 1 (Week 1)\n",
    "\n",
    ">**Note**: Late submissions are ***`penalized`***.\n",
    "\n",
    "## Name: Osarieme Ehimwenma"
   ]
  },
  {
   "cell_type": "code",
   "execution_count": 49,
   "id": "5aba3d86-630f-4a40-bbf6-6e3cde1e44b9",
   "metadata": {},
   "outputs": [
    {
     "name": "stdout",
     "output_type": "stream",
     "text": [
      "The autoreload extension is already loaded. To reload it, use:\n",
      "  %reload_ext autoreload\n"
     ]
    }
   ],
   "source": [
    "# Black code formatter (Optional)\n",
    "# $ pip install nb_black\n",
    "\n",
    "# auto reload imports\n",
    "import pandas as pd\n",
    "import numpy as np\n",
    "import random\n",
    "%load_ext autoreload\n",
    "%autoreload 2"
   ]
  },
  {
   "cell_type": "markdown",
   "id": "c5f5ad77-c752-4093-b190-919063786c35",
   "metadata": {},
   "source": [
    "## Qs 1: \n",
    "\n",
    "Create a class **`Die`** with one attribute called sides, which has a default value of 6. Write a method called `roll_die()` that prints a random number between **1** and the **number of sides** the die has. Make a **6-sided** die and roll it **4** times."
   ]
  },
  {
   "cell_type": "code",
   "execution_count": 50,
   "id": "38322314-a896-46e0-b2ba-4e6415487559",
   "metadata": {},
   "outputs": [],
   "source": [
    "class Die:\n",
    "    \"\"\"creating a class and method that prints random number of a die between 1 and num\"\"\"\n",
    "    \n",
    "    def __init__(self, sides: int) -> None:\n",
    "        \"\"\"Initializing a 6-sided die\"\"\"\n",
    "        self.sides = sides\n",
    "        \n",
    "#     def die_roll():\n",
    "#         diceRoll = random.randint(1, 6)\n",
    "#         return diceRoll\n",
    "        \n",
    "    def roll_die(self) -> int:\n",
    "        \"\"\"Rolling the die randomly\"\"\"\n",
    "        dieRoll = random.randint(1, 6)\n",
    "        return dieRoll, {self.sides}"
   ]
  },
  {
   "cell_type": "code",
   "execution_count": 51,
   "id": "d1a517b1-7062-46db-ab56-a3fc9015fe80",
   "metadata": {},
   "outputs": [
    {
     "data": {
      "text/plain": [
       "(2, {6})"
      ]
     },
     "execution_count": 51,
     "metadata": {},
     "output_type": "execute_result"
    }
   ],
   "source": [
    "# Write your solution here\n",
    "die = Die(6)\n",
    "die.roll_die()"
   ]
  },
  {
   "cell_type": "code",
   "execution_count": 52,
   "id": "cc40be86-90e0-4d95-ab3f-a7e299c73127",
   "metadata": {},
   "outputs": [
    {
     "data": {
      "text/plain": [
       "(5, {6})"
      ]
     },
     "execution_count": 52,
     "metadata": {},
     "output_type": "execute_result"
    }
   ],
   "source": [
    "# Write your solution here\n",
    "die = Die(6)\n",
    "die.roll_die()"
   ]
  },
  {
   "cell_type": "code",
   "execution_count": 56,
   "id": "738525e7-1d88-4a4d-8321-80d5df6f115a",
   "metadata": {},
   "outputs": [
    {
     "data": {
      "text/plain": [
       "(1, {6})"
      ]
     },
     "execution_count": 56,
     "metadata": {},
     "output_type": "execute_result"
    }
   ],
   "source": [
    "# Write your solution here\n",
    "die = Die(6)\n",
    "die.roll_die()"
   ]
  },
  {
   "cell_type": "code",
   "execution_count": 54,
   "id": "12ab517e-1921-4606-a6f3-ee14df19f00a",
   "metadata": {},
   "outputs": [
    {
     "data": {
      "text/plain": [
       "(3, {6})"
      ]
     },
     "execution_count": 54,
     "metadata": {},
     "output_type": "execute_result"
    }
   ],
   "source": [
    "# Write your solution here\n",
    "die = Die(6)\n",
    "die.roll_die()"
   ]
  },
  {
   "cell_type": "code",
   "execution_count": null,
   "id": "f943eb58",
   "metadata": {},
   "outputs": [],
   "source": []
  },
  {
   "cell_type": "markdown",
   "id": "3cfe6485-0967-465b-b47a-c5e83c7d6a68",
   "metadata": {
    "tags": []
   },
   "source": [
    "## Qs 2: \n",
    "\n",
    "Write a function called `checker()` that accepts a number between 1 and N. Your function should print **Yes** if the number is divisible by 3, **Okay** if the number is divisible by 4 and **Perfect** if the number is divisible by 12. Test your function with **2** examples as shown below:\n",
    "\n",
    "```python\n",
    "\n",
    "def checker(number: int) -> None:\n",
    "    pass\n",
    "\n",
    "checker(number=13)\n",
    "\n",
    "# 3: Yes\n",
    "# 4: Okay\n",
    "# 6: Yes\n",
    "# 8: Okay\n",
    "# 9: Yes\n",
    "# 12: Perfect\n",
    "\n",
    "checker(number=30)\n",
    "```"
   ]
  },
  {
   "cell_type": "code",
   "execution_count": 24,
   "id": "2e89f2f2-d0b0-4ca8-8971-58a5b5d0ce4b",
   "metadata": {},
   "outputs": [
    {
     "name": "stdout",
     "output_type": "stream",
     "text": [
      "3: Yes\n",
      "4: Okay\n",
      "6: Yes\n",
      "8: Okay\n",
      "9: Yes\n",
      "12: Perfect\n"
     ]
    }
   ],
   "source": [
    "# Write your solution here\n",
    "def checker(number: int) -> None:\n",
    "     \"\"\"A function that accepts a number divisible by 3, 4, 12\"\"\"\n",
    "\n",
    "num = 13\n",
    "for num in range(1, num):\n",
    "    if num % 12 == 0:\n",
    "        print(f\"{num}: Perfect\")\n",
    "    elif num % 4 == 0:\n",
    "        print(f\"{num}: Okay\")\n",
    "    elif num % 3 == 0:\n",
    "        print(f\"{num}: Yes\")\n",
    "        \n",
    "\n",
    "# number in desc order to prevent error occurring while dividing"
   ]
  },
  {
   "cell_type": "code",
   "execution_count": 25,
   "id": "d54bf804-5776-45c1-ae47-14ce56c0bc61",
   "metadata": {},
   "outputs": [
    {
     "name": "stdout",
     "output_type": "stream",
     "text": [
      "3: Yes\n",
      "4: Okay\n",
      "6: Yes\n",
      "8: Okay\n",
      "9: Yes\n",
      "12: Perfect\n",
      "15: Yes\n",
      "16: Okay\n",
      "18: Yes\n",
      "20: Okay\n",
      "21: Yes\n",
      "24: Perfect\n",
      "27: Yes\n",
      "28: Okay\n"
     ]
    }
   ],
   "source": [
    "# Write your solution here\n",
    "def checker(number: int) -> None:\n",
    "     \"\"\"A function that accepts a number divisible by 3, 4, 12\"\"\"\n",
    "\n",
    "checker = 30\n",
    "for checker in range(1, checker):\n",
    "    if checker % 12 == 0:\n",
    "        print(f\"{checker}: Perfect\")\n",
    "    elif checker % 4 == 0:\n",
    "        print(f\"{checker}: Okay\")\n",
    "    elif checker % 3 == 0:\n",
    "        print(f\"{checker}: Yes\")\n",
    " "
   ]
  },
  {
   "cell_type": "markdown",
   "id": "91c78281-195b-4248-b2ca-86bb330a8b73",
   "metadata": {},
   "source": [
    "#### Qs 3: \n",
    "\n",
    "Create a class called `MeanOrMedian`. Implement two methods in your class `calculate_mean()` and `calculate_median()` that calculates the **`mean`** and the **`median`** respectively given a list. Instantiate the class `MeanOrMedian` and test the **2** `mean` and `median` methods."
   ]
  },
  {
   "cell_type": "code",
   "execution_count": 26,
   "id": "88a8958b-5ccc-405c-9822-2a2e593d49fd",
   "metadata": {},
   "outputs": [],
   "source": [
    "# Write your solution here\n",
    "class Students():\n",
    "    \"\"\"creating a class that calculate the man and median of a given list\"\"\"\n",
    "    def __init__(self, *score: int) -> None:\n",
    "        \"\"\"Initializing the attribute\"\"\"\n",
    "        self.score = score\n",
    "        \n",
    "    def calculate_mean(self) -> list:\n",
    "        \"\"\"calculate for Mean\"\"\"\n",
    "        my_list = list()\n",
    "        my_list.extend(self.score)\n",
    "        mean = sum(my_list) / len(my_list)\n",
    "        return mean\n",
    "   \n",
    "    def calculate_median(self) -> list:\n",
    "        \"\"\"calculate for Median\"\"\"\n",
    "        my_list = list()\n",
    "        my_list.extend(self.score)\n",
    "        my_list = sorted(my_list)\n",
    "        middle_num = (len(my_list) // 2)\n",
    "        \n",
    "        if len(my_list) % 2 != 0:\n",
    "            return my_list[middle_num]\n",
    "        \n",
    "        else:\n",
    "            median = (my_list[middle_num]+ my_list[middle_num -1])/2\n",
    "            median / 2\n",
    "            \n",
    "        return median  "
   ]
  },
  {
   "cell_type": "code",
   "execution_count": 27,
   "id": "5130feb9",
   "metadata": {},
   "outputs": [
    {
     "name": "stdout",
     "output_type": "stream",
     "text": [
      "mean: 87.66666666666667\n"
     ]
    }
   ],
   "source": [
    "# Write your solution here\n",
    "score = Students(82,88,91,75,91,99)\n",
    "mean = score.calculate_mean()\n",
    "print(f\"mean: {mean}\")"
   ]
  },
  {
   "cell_type": "code",
   "execution_count": 28,
   "id": "0ac08968-7724-444d-bb09-c53b29e30096",
   "metadata": {},
   "outputs": [
    {
     "name": "stdout",
     "output_type": "stream",
     "text": [
      "median: 89.5\n"
     ]
    }
   ],
   "source": [
    "# Write your solution here\n",
    "score = Students(82,88,91,75,91,99)\n",
    "median = score.calculate_median()\n",
    "print(f\"median: {median}\")"
   ]
  },
  {
   "cell_type": "code",
   "execution_count": null,
   "id": "c111ac13-e041-4424-a593-67b977983a5f",
   "metadata": {},
   "outputs": [],
   "source": []
  },
  {
   "cell_type": "markdown",
   "id": "755910de-cce0-49eb-b8d0-54fc7e30460a",
   "metadata": {},
   "source": [
    "## Qs 4:\n",
    "\n",
    "Write a program to create the function called `solver()`, which can accept two variables and perform **multiplication** and **division**. It must also return both **multiplication** and **division** in the same return call. Call the function using **two** different examples."
   ]
  },
  {
   "cell_type": "code",
   "execution_count": 47,
   "id": "17630778-8b55-4fd8-a2c1-198072e1e595",
   "metadata": {},
   "outputs": [
    {
     "name": "stdout",
     "output_type": "stream",
     "text": [
      "multiplication: 48, division: 3.0\n"
     ]
    }
   ],
   "source": [
    "# Write your solution here\n",
    "def solver(a,b):\n",
    "    \"\"\"A function that accepts two(2) variables to perform multiplication and division.\"\"\"\n",
    "    multiplication = (a*b)\n",
    "    division = (a/b)\n",
    "    print(f\"multiplication: {multiplication}, division: {division}\")\n",
    "    #return multiplication, division\n",
    "\n",
    "solver(12,4)"
   ]
  },
  {
   "cell_type": "code",
   "execution_count": 48,
   "id": "c2a37e8f-2043-4187-b213-c73e22f77218",
   "metadata": {},
   "outputs": [
    {
     "name": "stdout",
     "output_type": "stream",
     "text": [
      "multiplication: 108, division: 12.0\n"
     ]
    }
   ],
   "source": [
    "# Write your solution here\n",
    "solver(36,3)"
   ]
  },
  {
   "cell_type": "code",
   "execution_count": null,
   "id": "a74b236c-af51-447a-8874-43cc0f2690ae",
   "metadata": {},
   "outputs": [],
   "source": []
  },
  {
   "cell_type": "markdown",
   "id": "11fd8120-de4e-41c6-a9a6-8301347ce936",
   "metadata": {},
   "source": [
    "## Qs 5:\n",
    "\n",
    "Given the dictionary below, extract the following:\n",
    "\n",
    "a.`name`\n",
    "\n",
    "b. `height,width`\n",
    "\n",
    "c. `size`\n",
    "\n",
    "\n",
    "\n",
    "```python\n",
    "\n",
    "my_dict = {\n",
    "   \"id\": \"001\",\n",
    "   \"name\": \"dog\",\n",
    "   \"image\":\n",
    "      {\n",
    "         \"url\": \"images/001.jpg\",\n",
    "\n",
    "            \"thumbnail\":\n",
    "               {\n",
    "                  \"url\": \"images/thumbnails/001.jpg\",\n",
    "                  \"height,width\": \"3x6\"\n",
    "               },\n",
    "          \"size\": \"30 kB\"\n",
    "      }\n",
    "}\n",
    "\n",
    "```"
   ]
  },
  {
   "cell_type": "code",
   "execution_count": 6,
   "id": "b2ba6099-5668-4647-bc93-ad620bfb6be0",
   "metadata": {},
   "outputs": [
    {
     "data": {
      "text/plain": [
       "{'id': '001', 'name': 'dog', 'size': '30 kB', 'height,width': '3x6'}"
      ]
     },
     "execution_count": 6,
     "metadata": {},
     "output_type": "execute_result"
    }
   ],
   "source": [
    "my_dict = {\"id\": \"001\", \"name\": \"dog\", \"size\": \"30 kB\", \"height,width\": \"3x6\"}\n",
    "my_dict"
   ]
  },
  {
   "cell_type": "code",
   "execution_count": 7,
   "id": "ee8d8a36-ead3-4ca0-b98f-96864c7c7ebf",
   "metadata": {},
   "outputs": [
    {
     "data": {
      "text/plain": [
       "'dog'"
      ]
     },
     "execution_count": 7,
     "metadata": {},
     "output_type": "execute_result"
    }
   ],
   "source": [
    "# Write your solution here\n",
    "my_dict[\"name\"]"
   ]
  },
  {
   "cell_type": "code",
   "execution_count": 8,
   "id": "1bfbcb4a-3390-46a9-87a4-3c60b2c5e8f2",
   "metadata": {},
   "outputs": [
    {
     "data": {
      "text/plain": [
       "'3x6'"
      ]
     },
     "execution_count": 8,
     "metadata": {},
     "output_type": "execute_result"
    }
   ],
   "source": [
    "# Write your solution here\n",
    "my_dict.get(\"height,width\")"
   ]
  },
  {
   "cell_type": "code",
   "execution_count": 9,
   "id": "53b7d128-d505-479e-ba13-545d173f80ac",
   "metadata": {},
   "outputs": [
    {
     "data": {
      "text/plain": [
       "'30 kB'"
      ]
     },
     "execution_count": 9,
     "metadata": {},
     "output_type": "execute_result"
    }
   ],
   "source": [
    "# Write your solution here\n",
    "my_dict.get(\"size\")"
   ]
  },
  {
   "cell_type": "code",
   "execution_count": null,
   "id": "429f4ee7-7d56-47ed-b729-d03f0ad1b865",
   "metadata": {},
   "outputs": [],
   "source": []
  },
  {
   "cell_type": "code",
   "execution_count": null,
   "id": "7d991ca7-cd81-42b4-922f-2d3a98fc514d",
   "metadata": {},
   "outputs": [],
   "source": []
  },
  {
   "cell_type": "code",
   "execution_count": null,
   "id": "e7633399-c0c2-4e74-af78-155dab778b99",
   "metadata": {},
   "outputs": [],
   "source": []
  }
 ],
 "metadata": {
  "kernelspec": {
   "display_name": "Python 3",
   "language": "python",
   "name": "python3"
  },
  "language_info": {
   "codemirror_mode": {
    "name": "ipython",
    "version": 3
   },
   "file_extension": ".py",
   "mimetype": "text/x-python",
   "name": "python",
   "nbconvert_exporter": "python",
   "pygments_lexer": "ipython3",
   "version": "3.8.8"
  }
 },
 "nbformat": 4,
 "nbformat_minor": 5
}
